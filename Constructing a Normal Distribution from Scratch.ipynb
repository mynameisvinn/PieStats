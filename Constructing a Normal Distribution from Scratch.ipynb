{
 "cells": [
  {
   "cell_type": "markdown",
   "metadata": {},
   "source": [
    "# [how do we construct a normal distribution?]( https://bjlkeng.github.io/posts/sampling-from-a-normal-distribution/)\n",
    "a computer doesnt know have a normal distribution \"primitive\", so how can a computer sample from a normal distribution?\n",
    "\n",
    "a computer knows how to generate random numbers. using the `box muller` method, a computer transforms samples drawn from an uniform distribution into samples that follows a normal distribution."
   ]
  },
  {
   "cell_type": "code",
   "execution_count": 63,
   "metadata": {},
   "outputs": [],
   "source": [
    "import sys\n",
    "import numpy as np\n",
    "import random\n",
    "import math\n",
    "\n",
    "def Multivariate_Normal():\n",
    "    # step 1 - get normally distributed data\n",
    "    N = 10000\n",
    "    X1 = np.array([box_muller()[0] for x in range(N)])\n",
    "    X2 = np.array([box_muller()[0] for x in range(N)])\n",
    "\n",
    "    # step 2 - reshape\n",
    "    X = np.vstack([X1, X2]).T\n",
    "    tm = np.array([[1, 3], [2, 1]])  # all x will land on (1,0); all y will land on (0, 10)\n",
    "    reshaped_data = np.dot(X, tm)\n",
    "    X1_reshaped = reshaped_data[:,0]\n",
    "    X2_reshaped = reshaped_data[:,1]\n",
    "    return X1_reshaped, X2_reshaped\n",
    "    \n",
    "def box_muller():\n",
    "    epsilon = sys.float_info.epsilon\n",
    "\n",
    "    u1, u2 = 0.0, 0.0\n",
    "    while u1 < epsilon or u2 < epsilon:  # Avoid getting u == 0.0\n",
    "        u1 = random.random()\n",
    "        u2 = random.random()\n",
    "\n",
    "    n1 = math.sqrt(-2 * math.log(u1)) * math.cos(2 * math.pi * u2)\n",
    "    n2 = math.sqrt(-2 * math.log(u1)) * math.sin(2 * math.pi * u2)\n",
    "    return n1, n2"
   ]
  },
  {
   "cell_type": "code",
   "execution_count": 65,
   "metadata": {},
   "outputs": [
    {
     "data": {
      "image/png": "[encoded data removed]",
      "text/plain": [
       "<Figure size 432x288 with 2 Axes>"
      ]
     },
     "metadata": {},
     "output_type": "display_data"
    }
   ],
   "source": [
    "import matplotlib.pyplot as plt\n",
    "plt.style.use(\"ggplot\")\n",
    "\n",
    "x1, x2 = Multivariate_Normal()\n",
    "plt.hist2d(x1, x2, bins=30, cmap='Blues')  # https://jakevdp.github.io/PythonDataScienceHandbook/04.05-histograms-and-binnings.html\n",
    "cb = plt.colorbar()\n",
    "cb.set_label('counts in bin')"
   ]
  },
  {
   "cell_type": "code",
   "execution_count": null,
   "metadata": {},
   "outputs": [],
   "source": []
  },
  {
   "cell_type": "code",
   "execution_count": null,
   "metadata": {},
   "outputs": [],
   "source": []
  }
 ],
 "metadata": {
  "kernelspec": {
   "display_name": "Python 3",
   "language": "python",
   "name": "python3"
  },
  "language_info": {
   "codemirror_mode": {
    "name": "ipython",
    "version": 3
   },
   "file_extension": ".py",
   "mimetype": "text/x-python",
   "name": "python",
   "nbconvert_exporter": "python",
   "pygments_lexer": "ipython3",
   "version": "3.7.3"
  }
 },
 "nbformat": 4,
 "nbformat_minor": 2
}
